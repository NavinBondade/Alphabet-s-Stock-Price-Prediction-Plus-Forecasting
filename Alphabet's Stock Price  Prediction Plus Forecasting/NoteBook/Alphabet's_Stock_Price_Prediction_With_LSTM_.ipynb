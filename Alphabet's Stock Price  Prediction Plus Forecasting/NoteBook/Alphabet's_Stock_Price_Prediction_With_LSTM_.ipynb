{
  "nbformat": 4,
  "nbformat_minor": 0,
  "metadata": {
    "colab": {
      "name": "Alphabet's Stock Price Prediction With LSTM .ipynb",
      "provenance": [],
      "collapsed_sections": [],
      "toc_visible": true
    },
    "kernelspec": {
      "name": "python3",
      "display_name": "Python 3"
    },
    "accelerator": "GPU"
  },
  "cells": [
    {
      "cell_type": "markdown",
      "metadata": {
        "id": "zci3u3Cz5PUf"
      },
      "source": [
        "This dataset of Alphabet's stock price is real not dummy, the dataset is downloaded from finance.yahoo.com. \n",
        "And here we are predecting the Open price of stock"
      ]
    },
    {
      "cell_type": "markdown",
      "metadata": {
        "id": "twH0lMZ_b1_b"
      },
      "source": [
        "# Libraries"
      ]
    },
    {
      "cell_type": "code",
      "metadata": {
        "id": "xaShBpeYijW3"
      },
      "source": [
        "import tensorflow as tf\n",
        "from tensorflow.keras import Sequential\n",
        "from tensorflow.keras.layers import Dense,Dropout, LSTM, GRU\n",
        "from tensorflow.compat.v1 import placeholder\n",
        "from sklearn.preprocessing import MinMaxScaler\n",
        "import numpy as np\n",
        "import pandas as pd\n",
        "import matplotlib.pyplot as plt"
      ],
      "execution_count": 1,
      "outputs": []
    },
    {
      "cell_type": "markdown",
      "metadata": {
        "id": "j3LpeaKCb5j0"
      },
      "source": [
        "# Data Reading & Evaluation\r\n"
      ]
    },
    {
      "cell_type": "code",
      "metadata": {
        "id": "1GVUAfG-ilJe",
        "colab": {
          "base_uri": "https://localhost:8080/",
          "height": 204
        },
        "outputId": "c01fd90a-e8fa-47dd-8a32-9ab8befbf824"
      },
      "source": [
        "dataset = pd.read_csv('/content/GOOG.csv')\n",
        "dataset = dataset.drop(['Date'], axis=1)\n",
        "dataset.head()"
      ],
      "execution_count": 3,
      "outputs": [
        {
          "output_type": "execute_result",
          "data": {
            "text/html": [
              "<div>\n",
              "<style scoped>\n",
              "    .dataframe tbody tr th:only-of-type {\n",
              "        vertical-align: middle;\n",
              "    }\n",
              "\n",
              "    .dataframe tbody tr th {\n",
              "        vertical-align: top;\n",
              "    }\n",
              "\n",
              "    .dataframe thead th {\n",
              "        text-align: right;\n",
              "    }\n",
              "</style>\n",
              "<table border=\"1\" class=\"dataframe\">\n",
              "  <thead>\n",
              "    <tr style=\"text-align: right;\">\n",
              "      <th></th>\n",
              "      <th>Open</th>\n",
              "      <th>High</th>\n",
              "      <th>Low</th>\n",
              "      <th>Close</th>\n",
              "      <th>Adj Close</th>\n",
              "      <th>Volume</th>\n",
              "    </tr>\n",
              "  </thead>\n",
              "  <tbody>\n",
              "    <tr>\n",
              "      <th>0</th>\n",
              "      <td>56.996365</td>\n",
              "      <td>58.525631</td>\n",
              "      <td>56.562988</td>\n",
              "      <td>58.525631</td>\n",
              "      <td>58.525631</td>\n",
              "      <td>9517541</td>\n",
              "    </tr>\n",
              "    <tr>\n",
              "      <th>1</th>\n",
              "      <td>58.256641</td>\n",
              "      <td>60.572960</td>\n",
              "      <td>58.166977</td>\n",
              "      <td>59.457142</td>\n",
              "      <td>59.457142</td>\n",
              "      <td>10679279</td>\n",
              "    </tr>\n",
              "    <tr>\n",
              "      <th>2</th>\n",
              "      <td>59.681301</td>\n",
              "      <td>59.985161</td>\n",
              "      <td>58.535595</td>\n",
              "      <td>58.699978</td>\n",
              "      <td>58.699978</td>\n",
              "      <td>7263122</td>\n",
              "    </tr>\n",
              "    <tr>\n",
              "      <th>3</th>\n",
              "      <td>58.480801</td>\n",
              "      <td>59.611561</td>\n",
              "      <td>58.186901</td>\n",
              "      <td>58.968971</td>\n",
              "      <td>58.968971</td>\n",
              "      <td>7617245</td>\n",
              "    </tr>\n",
              "    <tr>\n",
              "      <th>4</th>\n",
              "      <td>59.198112</td>\n",
              "      <td>61.086037</td>\n",
              "      <td>58.291508</td>\n",
              "      <td>60.184414</td>\n",
              "      <td>60.184414</td>\n",
              "      <td>8576226</td>\n",
              "    </tr>\n",
              "  </tbody>\n",
              "</table>\n",
              "</div>"
            ],
            "text/plain": [
              "        Open       High        Low      Close  Adj Close    Volume\n",
              "0  56.996365  58.525631  56.562988  58.525631  58.525631   9517541\n",
              "1  58.256641  60.572960  58.166977  59.457142  59.457142  10679279\n",
              "2  59.681301  59.985161  58.535595  58.699978  58.699978   7263122\n",
              "3  58.480801  59.611561  58.186901  58.968971  58.968971   7617245\n",
              "4  59.198112  61.086037  58.291508  60.184414  60.184414   8576226"
            ]
          },
          "metadata": {
            "tags": []
          },
          "execution_count": 3
        }
      ]
    },
    {
      "cell_type": "code",
      "metadata": {
        "id": "rgHp3gkxi1yI",
        "colab": {
          "base_uri": "https://localhost:8080/"
        },
        "outputId": "2f0b110c-fb89-4884-fa67-d85062144f9b"
      },
      "source": [
        "dataset.info()"
      ],
      "execution_count": 4,
      "outputs": [
        {
          "output_type": "stream",
          "text": [
            "<class 'pandas.core.frame.DataFrame'>\n",
            "RangeIndex: 4152 entries, 0 to 4151\n",
            "Data columns (total 6 columns):\n",
            " #   Column     Non-Null Count  Dtype  \n",
            "---  ------     --------------  -----  \n",
            " 0   Open       4152 non-null   float64\n",
            " 1   High       4152 non-null   float64\n",
            " 2   Low        4152 non-null   float64\n",
            " 3   Close      4152 non-null   float64\n",
            " 4   Adj Close  4152 non-null   float64\n",
            " 5   Volume     4152 non-null   int64  \n",
            "dtypes: float64(5), int64(1)\n",
            "memory usage: 194.8 KB\n"
          ],
          "name": "stdout"
        }
      ]
    },
    {
      "cell_type": "code",
      "metadata": {
        "id": "79no3MZIjJM3",
        "colab": {
          "base_uri": "https://localhost:8080/"
        },
        "outputId": "153932ec-02c5-4a4e-88d5-84e4078c723c"
      },
      "source": [
        "dataset.isnull().sum()\r\n",
        "#no null values present"
      ],
      "execution_count": 5,
      "outputs": [
        {
          "output_type": "execute_result",
          "data": {
            "text/plain": [
              "Open         0\n",
              "High         0\n",
              "Low          0\n",
              "Close        0\n",
              "Adj Close    0\n",
              "Volume       0\n",
              "dtype: int64"
            ]
          },
          "metadata": {
            "tags": []
          },
          "execution_count": 5
        }
      ]
    },
    {
      "cell_type": "markdown",
      "metadata": {
        "id": "uAdMRhcouP8T"
      },
      "source": [
        "# Data Visualization"
      ]
    },
    {
      "cell_type": "code",
      "metadata": {
        "colab": {
          "base_uri": "https://localhost:8080/",
          "height": 492
        },
        "id": "KzN9aGxzuWG2",
        "outputId": "826723e6-aa2d-4470-bd8e-cb7e293eda8c"
      },
      "source": [
        "plt.rcParams[\"figure.figsize\"] = (17,7)\r\n",
        "plt.rcParams.update({'font.size': 10})\r\n",
        "plt.title(\"Alphabet's Stock Price (Open)\")\r\n",
        "plt.plot(dataset['Open'])\r\n",
        "plt.ylabel('Price')\r\n",
        "plt.xlabel('Time')\r\n",
        "plt.legend()\r\n",
        "plt.plot()"
      ],
      "execution_count": 16,
      "outputs": [
        {
          "output_type": "stream",
          "text": [
            "No handles with labels found to put in legend.\n"
          ],
          "name": "stderr"
        },
        {
          "output_type": "execute_result",
          "data": {
            "text/plain": [
              "[]"
            ]
          },
          "metadata": {
            "tags": []
          },
          "execution_count": 16
        },
        {
          "output_type": "display_data",
          "data": {
            "image/png": "[encoded data removed]",
            "text/plain": [
              "<Figure size 1224x504 with 1 Axes>"
            ]
          },
          "metadata": {
            "tags": [],
            "needs_background": "light"
          }
        }
      ]
    },
    {
      "cell_type": "markdown",
      "metadata": {
        "id": "a-oqADUEcGx1"
      },
      "source": [
        "# Train Dataset Preprocessing"
      ]
    },
    {
      "cell_type": "code",
      "metadata": {
        "id": "hVqhyhYqjNSK"
      },
      "source": [
        "train = dataset[:3000]"
      ],
      "execution_count": null,
      "outputs": []
    },
    {
      "cell_type": "code",
      "metadata": {
        "id": "d4mzr2RNj7l_",
        "colab": {
          "base_uri": "https://localhost:8080/"
        },
        "outputId": "73cffab0-ba4e-463e-c40a-1999089483e6"
      },
      "source": [
        "print(train.shape)\n",
        "print(test.shape)"
      ],
      "execution_count": null,
      "outputs": [
        {
          "output_type": "stream",
          "text": [
            "(3000, 6)\n",
            "(1151, 6)\n"
          ],
          "name": "stdout"
        }
      ]
    },
    {
      "cell_type": "code",
      "metadata": {
        "id": "QncHq2S_kAt7",
        "colab": {
          "base_uri": "https://localhost:8080/"
        },
        "outputId": "2324551c-942b-424f-f453-35b1c3f889cc"
      },
      "source": [
        "print(train.head(3))\n",
        "print(test.head(3))"
      ],
      "execution_count": null,
      "outputs": [
        {
          "output_type": "stream",
          "text": [
            "        Open       High        Low      Close  Adj Close    Volume\n",
            "0  56.996365  58.525631  56.562988  58.525631  58.525631   9517541\n",
            "1  58.256641  60.572960  58.166977  59.457142  59.457142  10679279\n",
            "2  59.681301  59.985161  58.535595  58.699978  58.699978   7263122\n",
            "            Open        High         Low       Close   Adj Close  Volume\n",
            "3000  777.320007  780.809998  773.530029  779.909973  779.909973  924200\n",
            "3001  780.010010  782.859985  777.000000  777.500000  777.500000  719400\n",
            "3002  775.000000  777.099976  773.130005  775.419983  775.419983  861500\n"
          ],
          "name": "stdout"
        }
      ]
    },
    {
      "cell_type": "code",
      "metadata": {
        "id": "fLy_QSeSqnKu"
      },
      "source": [
        "train = train.drop(['Adj Close'], axis=1)"
      ],
      "execution_count": null,
      "outputs": []
    },
    {
      "cell_type": "code",
      "metadata": {
        "id": "eQqgywm3laWv",
        "colab": {
          "base_uri": "https://localhost:8080/",
          "height": 204
        },
        "outputId": "9578fed8-c8ab-46e8-b281-425244f80677"
      },
      "source": [
        "train.head()"
      ],
      "execution_count": null,
      "outputs": [
        {
          "output_type": "execute_result",
          "data": {
            "text/html": [
              "<div>\n",
              "<style scoped>\n",
              "    .dataframe tbody tr th:only-of-type {\n",
              "        vertical-align: middle;\n",
              "    }\n",
              "\n",
              "    .dataframe tbody tr th {\n",
              "        vertical-align: top;\n",
              "    }\n",
              "\n",
              "    .dataframe thead th {\n",
              "        text-align: right;\n",
              "    }\n",
              "</style>\n",
              "<table border=\"1\" class=\"dataframe\">\n",
              "  <thead>\n",
              "    <tr style=\"text-align: right;\">\n",
              "      <th></th>\n",
              "      <th>Open</th>\n",
              "      <th>High</th>\n",
              "      <th>Low</th>\n",
              "      <th>Close</th>\n",
              "      <th>Volume</th>\n",
              "    </tr>\n",
              "  </thead>\n",
              "  <tbody>\n",
              "    <tr>\n",
              "      <th>0</th>\n",
              "      <td>56.996365</td>\n",
              "      <td>58.525631</td>\n",
              "      <td>56.562988</td>\n",
              "      <td>58.525631</td>\n",
              "      <td>9517541</td>\n",
              "    </tr>\n",
              "    <tr>\n",
              "      <th>1</th>\n",
              "      <td>58.256641</td>\n",
              "      <td>60.572960</td>\n",
              "      <td>58.166977</td>\n",
              "      <td>59.457142</td>\n",
              "      <td>10679279</td>\n",
              "    </tr>\n",
              "    <tr>\n",
              "      <th>2</th>\n",
              "      <td>59.681301</td>\n",
              "      <td>59.985161</td>\n",
              "      <td>58.535595</td>\n",
              "      <td>58.699978</td>\n",
              "      <td>7263122</td>\n",
              "    </tr>\n",
              "    <tr>\n",
              "      <th>3</th>\n",
              "      <td>58.480801</td>\n",
              "      <td>59.611561</td>\n",
              "      <td>58.186901</td>\n",
              "      <td>58.968971</td>\n",
              "      <td>7617245</td>\n",
              "    </tr>\n",
              "    <tr>\n",
              "      <th>4</th>\n",
              "      <td>59.198112</td>\n",
              "      <td>61.086037</td>\n",
              "      <td>58.291508</td>\n",
              "      <td>60.184414</td>\n",
              "      <td>8576226</td>\n",
              "    </tr>\n",
              "  </tbody>\n",
              "</table>\n",
              "</div>"
            ],
            "text/plain": [
              "        Open       High        Low      Close    Volume\n",
              "0  56.996365  58.525631  56.562988  58.525631   9517541\n",
              "1  58.256641  60.572960  58.166977  59.457142  10679279\n",
              "2  59.681301  59.985161  58.535595  58.699978   7263122\n",
              "3  58.480801  59.611561  58.186901  58.968971   7617245\n",
              "4  59.198112  61.086037  58.291508  60.184414   8576226"
            ]
          },
          "metadata": {
            "tags": []
          },
          "execution_count": 59
        }
      ]
    },
    {
      "cell_type": "code",
      "metadata": {
        "id": "j-q6scG9lkAY"
      },
      "source": [
        "scaler = MinMaxScaler()\n",
        "train_s = scaler.fit_transform(train)"
      ],
      "execution_count": null,
      "outputs": []
    },
    {
      "cell_type": "markdown",
      "metadata": {
        "id": "DePJEMk1FJTF"
      },
      "source": [
        "# Creating Test Dataset"
      ]
    },
    {
      "cell_type": "code",
      "metadata": {
        "id": "EZ7IDUi4lvm1"
      },
      "source": [
        "X_train = []\n",
        "y_train = []\n",
        "\n",
        "for i in range(30, train_s.shape[0]):\n",
        "  X_train.append(train_s[i-30 : i])\n",
        "  y_train.append(train_s[i,0])"
      ],
      "execution_count": null,
      "outputs": []
    },
    {
      "cell_type": "code",
      "metadata": {
        "id": "G9PLlEQZl4ns"
      },
      "source": [
        "X_train, y_train = np.array(X_train), np.array(y_train)"
      ],
      "execution_count": null,
      "outputs": []
    },
    {
      "cell_type": "code",
      "metadata": {
        "id": "qC55Apb6mM3y",
        "colab": {
          "base_uri": "https://localhost:8080/"
        },
        "outputId": "b017da8c-cea2-4dc9-e2a5-7264c033cb2b"
      },
      "source": [
        "print(X_train.shape)\n",
        "print(y_train.shape)"
      ],
      "execution_count": null,
      "outputs": [
        {
          "output_type": "stream",
          "text": [
            "(2970, 30, 5)\n",
            "(2970,)\n"
          ],
          "name": "stdout"
        }
      ]
    },
    {
      "cell_type": "markdown",
      "metadata": {
        "id": "qL-M0JWjcOAh"
      },
      "source": [
        "# Model Building"
      ]
    },
    {
      "cell_type": "code",
      "metadata": {
        "id": "dNpet0XXnMFz",
        "colab": {
          "base_uri": "https://localhost:8080/"
        },
        "outputId": "9d56b626-54f7-4e25-ee5a-f7d9198792b7"
      },
      "source": [
        "model = Sequential()\n",
        "\n",
        "model.add(LSTM(units = 30, activation='relu', return_sequences=True, input_shape = (X_train.shape[1], 5)))\n",
        "\n",
        "model.add(LSTM(units = 190, activation='relu', return_sequences=True))\n",
        "\n",
        "model.add(LSTM(units = 120, activation='relu',return_sequences=True))\n",
        "\n",
        "model.add(LSTM(units = 180, activation='relu'))\n",
        "model.add(Dropout(0.2))\n",
        "\n",
        "#Dense\n",
        "\n",
        "model.add(Dense(80, activation='relu'))\n",
        "model.add(Dropout(0.2))\n",
        "\n",
        "\n",
        "model.add(Dense(60, activation='relu'))\n",
        "model.add(Dropout(0.2))\n",
        "\n",
        "\n",
        "model.add(Dense(1))"
      ],
      "execution_count": null,
      "outputs": [
        {
          "output_type": "stream",
          "text": [
            "WARNING:tensorflow:Layer lstm_16 will not use cuDNN kernel since it doesn't meet the cuDNN kernel criteria. It will use generic GPU kernel as fallback when running on GPU\n",
            "WARNING:tensorflow:Layer lstm_17 will not use cuDNN kernel since it doesn't meet the cuDNN kernel criteria. It will use generic GPU kernel as fallback when running on GPU\n",
            "WARNING:tensorflow:Layer lstm_18 will not use cuDNN kernel since it doesn't meet the cuDNN kernel criteria. It will use generic GPU kernel as fallback when running on GPU\n",
            "WARNING:tensorflow:Layer lstm_19 will not use cuDNN kernel since it doesn't meet the cuDNN kernel criteria. It will use generic GPU kernel as fallback when running on GPU\n"
          ],
          "name": "stdout"
        }
      ]
    },
    {
      "cell_type": "code",
      "metadata": {
        "colab": {
          "base_uri": "https://localhost:8080/"
        },
        "id": "9lqywtmgyT6j",
        "outputId": "d58a18c4-2bf7-46bc-f3a8-99eb4bc2d9b8"
      },
      "source": [
        "model.summary()"
      ],
      "execution_count": null,
      "outputs": [
        {
          "output_type": "stream",
          "text": [
            "Model: \"sequential_4\"\n",
            "_________________________________________________________________\n",
            "Layer (type)                 Output Shape              Param #   \n",
            "=================================================================\n",
            "lstm_16 (LSTM)               (None, 30, 30)            4320      \n",
            "_________________________________________________________________\n",
            "lstm_17 (LSTM)               (None, 30, 190)           167960    \n",
            "_________________________________________________________________\n",
            "lstm_18 (LSTM)               (None, 30, 120)           149280    \n",
            "_________________________________________________________________\n",
            "lstm_19 (LSTM)               (None, 180)               216720    \n",
            "_________________________________________________________________\n",
            "dropout_12 (Dropout)         (None, 180)               0         \n",
            "_________________________________________________________________\n",
            "dense_12 (Dense)             (None, 80)                14480     \n",
            "_________________________________________________________________\n",
            "dropout_13 (Dropout)         (None, 80)                0         \n",
            "_________________________________________________________________\n",
            "dense_13 (Dense)             (None, 60)                4860      \n",
            "_________________________________________________________________\n",
            "dropout_14 (Dropout)         (None, 60)                0         \n",
            "_________________________________________________________________\n",
            "dense_14 (Dense)             (None, 1)                 61        \n",
            "=================================================================\n",
            "Total params: 557,681\n",
            "Trainable params: 557,681\n",
            "Non-trainable params: 0\n",
            "_________________________________________________________________\n"
          ],
          "name": "stdout"
        }
      ]
    },
    {
      "cell_type": "code",
      "metadata": {
        "id": "bZZVhTlvoYQK"
      },
      "source": [
        "model.compile(optimizer='adam', loss='mean_squared_error')"
      ],
      "execution_count": null,
      "outputs": []
    },
    {
      "cell_type": "code",
      "metadata": {
        "id": "3-YQM6Jm0lh6"
      },
      "source": [
        "callback = tf.keras.callbacks.EarlyStopping(monitor='loss', patience=10)"
      ],
      "execution_count": null,
      "outputs": []
    },
    {
      "cell_type": "markdown",
      "metadata": {
        "id": "-5BcIFQ4FBD7"
      },
      "source": [
        "# Model Training"
      ]
    },
    {
      "cell_type": "code",
      "metadata": {
        "id": "rXsnf84oprBu",
        "colab": {
          "base_uri": "https://localhost:8080/"
        },
        "outputId": "31dc1da9-42cb-4915-b618-0498e012aa46"
      },
      "source": [
        "r = model.fit(X_train, y_train, epochs=40, batch_size=30, callbacks=[callback])"
      ],
      "execution_count": null,
      "outputs": [
        {
          "output_type": "stream",
          "text": [
            "Epoch 1/40\n",
            "99/99 [==============================] - 9s 64ms/step - loss: 0.0579\n",
            "Epoch 2/40\n",
            "99/99 [==============================] - 7s 66ms/step - loss: 0.0053\n",
            "Epoch 3/40\n",
            "99/99 [==============================] - 7s 71ms/step - loss: 0.0048\n",
            "Epoch 4/40\n",
            "99/99 [==============================] - 7s 72ms/step - loss: 0.0041\n",
            "Epoch 5/40\n",
            "99/99 [==============================] - 7s 66ms/step - loss: 0.0045\n",
            "Epoch 6/40\n",
            "99/99 [==============================] - 7s 66ms/step - loss: 0.0035\n",
            "Epoch 7/40\n",
            "99/99 [==============================] - 7s 69ms/step - loss: 0.0028\n",
            "Epoch 8/40\n",
            "99/99 [==============================] - 7s 72ms/step - loss: 0.0031\n",
            "Epoch 9/40\n",
            "99/99 [==============================] - 6s 65ms/step - loss: 0.0030\n",
            "Epoch 10/40\n",
            "99/99 [==============================] - 7s 70ms/step - loss: 0.0025\n",
            "Epoch 11/40\n",
            "99/99 [==============================] - 7s 70ms/step - loss: 0.0026\n",
            "Epoch 12/40\n",
            "99/99 [==============================] - 6s 62ms/step - loss: 0.0023\n",
            "Epoch 13/40\n",
            "99/99 [==============================] - 6s 62ms/step - loss: 0.0021\n",
            "Epoch 14/40\n",
            "99/99 [==============================] - 6s 63ms/step - loss: 0.0023\n",
            "Epoch 15/40\n",
            "99/99 [==============================] - 7s 70ms/step - loss: 0.0025\n",
            "Epoch 16/40\n",
            "99/99 [==============================] - 7s 68ms/step - loss: 0.0022\n",
            "Epoch 17/40\n",
            "99/99 [==============================] - 7s 68ms/step - loss: 0.0022\n",
            "Epoch 18/40\n",
            "99/99 [==============================] - 6s 64ms/step - loss: 0.0019\n",
            "Epoch 19/40\n",
            "99/99 [==============================] - 7s 68ms/step - loss: 0.0022\n",
            "Epoch 20/40\n",
            "99/99 [==============================] - 7s 71ms/step - loss: 0.0017\n",
            "Epoch 21/40\n",
            "99/99 [==============================] - 7s 69ms/step - loss: 0.0019\n",
            "Epoch 22/40\n",
            "99/99 [==============================] - 6s 65ms/step - loss: 0.0016\n",
            "Epoch 23/40\n",
            "99/99 [==============================] - 7s 72ms/step - loss: 0.0016\n",
            "Epoch 24/40\n",
            "99/99 [==============================] - 7s 68ms/step - loss: 0.0015\n",
            "Epoch 25/40\n",
            "99/99 [==============================] - 6s 62ms/step - loss: 0.0017\n",
            "Epoch 26/40\n",
            "99/99 [==============================] - 6s 63ms/step - loss: 0.0021\n",
            "Epoch 27/40\n",
            "99/99 [==============================] - 6s 64ms/step - loss: 0.0017\n",
            "Epoch 28/40\n",
            "99/99 [==============================] - 7s 69ms/step - loss: 0.0017\n",
            "Epoch 29/40\n",
            "99/99 [==============================] - 8s 78ms/step - loss: 0.0016\n",
            "Epoch 30/40\n",
            "99/99 [==============================] - 7s 70ms/step - loss: 0.0013\n",
            "Epoch 31/40\n",
            "99/99 [==============================] - 7s 66ms/step - loss: 0.0015\n",
            "Epoch 32/40\n",
            "99/99 [==============================] - 6s 66ms/step - loss: 0.0013\n",
            "Epoch 33/40\n",
            "99/99 [==============================] - 7s 70ms/step - loss: 0.0016\n",
            "Epoch 34/40\n",
            "99/99 [==============================] - 7s 72ms/step - loss: 0.0014\n",
            "Epoch 35/40\n",
            "99/99 [==============================] - 6s 62ms/step - loss: 0.0015\n",
            "Epoch 36/40\n",
            "99/99 [==============================] - 7s 68ms/step - loss: 0.0014\n",
            "Epoch 37/40\n",
            "99/99 [==============================] - 6s 61ms/step - loss: 0.0012\n",
            "Epoch 38/40\n",
            "99/99 [==============================] - 7s 67ms/step - loss: 0.0013\n",
            "Epoch 39/40\n",
            "99/99 [==============================] - 6s 65ms/step - loss: 0.0013\n",
            "Epoch 40/40\n",
            "99/99 [==============================] - 7s 68ms/step - loss: 0.0012\n"
          ],
          "name": "stdout"
        }
      ]
    },
    {
      "cell_type": "markdown",
      "metadata": {
        "id": "mckFpAIRE7Uo"
      },
      "source": [
        "# Model Loss"
      ]
    },
    {
      "cell_type": "code",
      "metadata": {
        "id": "FHv3qj4xItl7",
        "colab": {
          "base_uri": "https://localhost:8080/",
          "height": 298
        },
        "outputId": "5389b66e-6530-43b8-95fd-ed8576515e97"
      },
      "source": [
        "plt.title('Loss')\n",
        "plt.plot(r.history['loss'], label='loss')\n",
        "plt.legend()\n",
        "plt.plot()"
      ],
      "execution_count": null,
      "outputs": [
        {
          "output_type": "execute_result",
          "data": {
            "text/plain": [
              "[]"
            ]
          },
          "metadata": {
            "tags": []
          },
          "execution_count": 148
        },
        {
          "output_type": "display_data",
          "data": {
            "image/png": "[encoded data removed]",
            "text/plain": [
              "<Figure size 432x288 with 1 Axes>"
            ]
          },
          "metadata": {
            "tags": [],
            "needs_background": "light"
          }
        }
      ]
    },
    {
      "cell_type": "markdown",
      "metadata": {
        "id": "HUjXl8x1cR43"
      },
      "source": [
        "# Test Dataset Preprocessing"
      ]
    },
    {
      "cell_type": "code",
      "metadata": {
        "id": "ECtMpgoR0A4P"
      },
      "source": [
        "test = dataset[3000:-1]\r\n",
        "test = test.drop(['Adj Close'], axis=1)"
      ],
      "execution_count": null,
      "outputs": []
    },
    {
      "cell_type": "code",
      "metadata": {
        "id": "czIApgxypzo_",
        "colab": {
          "base_uri": "https://localhost:8080/",
          "height": 204
        },
        "outputId": "eaa0e3ac-fc6d-4886-ce1d-602e394d18c8"
      },
      "source": [
        "test.head()"
      ],
      "execution_count": null,
      "outputs": [
        {
          "output_type": "execute_result",
          "data": {
            "text/html": [
              "<div>\n",
              "<style scoped>\n",
              "    .dataframe tbody tr th:only-of-type {\n",
              "        vertical-align: middle;\n",
              "    }\n",
              "\n",
              "    .dataframe tbody tr th {\n",
              "        vertical-align: top;\n",
              "    }\n",
              "\n",
              "    .dataframe thead th {\n",
              "        text-align: right;\n",
              "    }\n",
              "</style>\n",
              "<table border=\"1\" class=\"dataframe\">\n",
              "  <thead>\n",
              "    <tr style=\"text-align: right;\">\n",
              "      <th></th>\n",
              "      <th>Open</th>\n",
              "      <th>High</th>\n",
              "      <th>Low</th>\n",
              "      <th>Close</th>\n",
              "      <th>Volume</th>\n",
              "    </tr>\n",
              "  </thead>\n",
              "  <tbody>\n",
              "    <tr>\n",
              "      <th>3000</th>\n",
              "      <td>777.320007</td>\n",
              "      <td>780.809998</td>\n",
              "      <td>773.530029</td>\n",
              "      <td>779.909973</td>\n",
              "      <td>924200</td>\n",
              "    </tr>\n",
              "    <tr>\n",
              "      <th>3001</th>\n",
              "      <td>780.010010</td>\n",
              "      <td>782.859985</td>\n",
              "      <td>777.000000</td>\n",
              "      <td>777.500000</td>\n",
              "      <td>719400</td>\n",
              "    </tr>\n",
              "    <tr>\n",
              "      <th>3002</th>\n",
              "      <td>775.000000</td>\n",
              "      <td>777.099976</td>\n",
              "      <td>773.130005</td>\n",
              "      <td>775.419983</td>\n",
              "      <td>861500</td>\n",
              "    </tr>\n",
              "    <tr>\n",
              "      <th>3003</th>\n",
              "      <td>773.270020</td>\n",
              "      <td>774.539978</td>\n",
              "      <td>770.049988</td>\n",
              "      <td>772.150024</td>\n",
              "      <td>951400</td>\n",
              "    </tr>\n",
              "    <tr>\n",
              "      <th>3004</th>\n",
              "      <td>775.479980</td>\n",
              "      <td>776.440002</td>\n",
              "      <td>771.784973</td>\n",
              "      <td>772.080017</td>\n",
              "      <td>928200</td>\n",
              "    </tr>\n",
              "  </tbody>\n",
              "</table>\n",
              "</div>"
            ],
            "text/plain": [
              "            Open        High         Low       Close  Volume\n",
              "3000  777.320007  780.809998  773.530029  779.909973  924200\n",
              "3001  780.010010  782.859985  777.000000  777.500000  719400\n",
              "3002  775.000000  777.099976  773.130005  775.419983  861500\n",
              "3003  773.270020  774.539978  770.049988  772.150024  951400\n",
              "3004  775.479980  776.440002  771.784973  772.080017  928200"
            ]
          },
          "metadata": {
            "tags": []
          },
          "execution_count": 161
        }
      ]
    },
    {
      "cell_type": "code",
      "metadata": {
        "id": "Q-CNJAp1sscU",
        "colab": {
          "base_uri": "https://localhost:8080/",
          "height": 1000
        },
        "outputId": "39b8ffaf-0e9b-430a-c440-d043f5b79a4c"
      },
      "source": [
        "train.tail(60)"
      ],
      "execution_count": null,
      "outputs": [
        {
          "output_type": "execute_result",
          "data": {
            "text/html": [
              "<div>\n",
              "<style scoped>\n",
              "    .dataframe tbody tr th:only-of-type {\n",
              "        vertical-align: middle;\n",
              "    }\n",
              "\n",
              "    .dataframe tbody tr th {\n",
              "        vertical-align: top;\n",
              "    }\n",
              "\n",
              "    .dataframe thead th {\n",
              "        text-align: right;\n",
              "    }\n",
              "</style>\n",
              "<table border=\"1\" class=\"dataframe\">\n",
              "  <thead>\n",
              "    <tr style=\"text-align: right;\">\n",
              "      <th></th>\n",
              "      <th>Open</th>\n",
              "      <th>High</th>\n",
              "      <th>Low</th>\n",
              "      <th>Close</th>\n",
              "      <th>Adj Close</th>\n",
              "      <th>Volume</th>\n",
              "    </tr>\n",
              "  </thead>\n",
              "  <tbody>\n",
              "    <tr>\n",
              "      <th>2940</th>\n",
              "      <td>706.530029</td>\n",
              "      <td>711.478027</td>\n",
              "      <td>704.179993</td>\n",
              "      <td>704.239990</td>\n",
              "      <td>704.239990</td>\n",
              "      <td>1330700</td>\n",
              "    </tr>\n",
              "    <tr>\n",
              "      <th>2941</th>\n",
              "      <td>706.859985</td>\n",
              "      <td>720.969971</td>\n",
              "      <td>706.859985</td>\n",
              "      <td>720.090027</td>\n",
              "      <td>720.090027</td>\n",
              "      <td>1929500</td>\n",
              "    </tr>\n",
              "    <tr>\n",
              "      <th>2942</th>\n",
              "      <td>720.760010</td>\n",
              "      <td>727.510010</td>\n",
              "      <td>719.705017</td>\n",
              "      <td>725.270020</td>\n",
              "      <td>725.270020</td>\n",
              "      <td>1629200</td>\n",
              "    </tr>\n",
              "    <tr>\n",
              "      <th>2943</th>\n",
              "      <td>722.869995</td>\n",
              "      <td>728.330017</td>\n",
              "      <td>720.280029</td>\n",
              "      <td>724.119995</td>\n",
              "      <td>724.119995</td>\n",
              "      <td>1576300</td>\n",
              "    </tr>\n",
              "    <tr>\n",
              "      <th>2944</th>\n",
              "      <td>724.010010</td>\n",
              "      <td>733.935974</td>\n",
              "      <td>724.000000</td>\n",
              "      <td>732.659973</td>\n",
              "      <td>732.659973</td>\n",
              "      <td>1975000</td>\n",
              "    </tr>\n",
              "    <tr>\n",
              "      <th>2945</th>\n",
              "      <td>731.739990</td>\n",
              "      <td>739.729980</td>\n",
              "      <td>731.260010</td>\n",
              "      <td>735.719971</td>\n",
              "      <td>735.719971</td>\n",
              "      <td>2129500</td>\n",
              "    </tr>\n",
              "    <tr>\n",
              "      <th>2946</th>\n",
              "      <td>734.530029</td>\n",
              "      <td>737.210022</td>\n",
              "      <td>730.659973</td>\n",
              "      <td>734.150024</td>\n",
              "      <td>734.150024</td>\n",
              "      <td>1253600</td>\n",
              "    </tr>\n",
              "    <tr>\n",
              "      <th>2947</th>\n",
              "      <td>732.500000</td>\n",
              "      <td>733.020020</td>\n",
              "      <td>724.169983</td>\n",
              "      <td>730.400024</td>\n",
              "      <td>730.400024</td>\n",
              "      <td>1341800</td>\n",
              "    </tr>\n",
              "    <tr>\n",
              "      <th>2948</th>\n",
              "      <td>729.270020</td>\n",
              "      <td>729.489990</td>\n",
              "      <td>720.559998</td>\n",
              "      <td>722.340027</td>\n",
              "      <td>722.340027</td>\n",
              "      <td>1226300</td>\n",
              "    </tr>\n",
              "    <tr>\n",
              "      <th>2949</th>\n",
              "      <td>724.909973</td>\n",
              "      <td>724.909973</td>\n",
              "      <td>714.609985</td>\n",
              "      <td>716.549988</td>\n",
              "      <td>716.549988</td>\n",
              "      <td>1565300</td>\n",
              "    </tr>\n",
              "    <tr>\n",
              "      <th>2950</th>\n",
              "      <td>719.840027</td>\n",
              "      <td>721.979980</td>\n",
              "      <td>716.549988</td>\n",
              "      <td>716.650024</td>\n",
              "      <td>716.650024</td>\n",
              "      <td>1336200</td>\n",
              "    </tr>\n",
              "    <tr>\n",
              "      <th>2951</th>\n",
              "      <td>723.960022</td>\n",
              "      <td>728.570007</td>\n",
              "      <td>720.580017</td>\n",
              "      <td>728.280029</td>\n",
              "      <td>728.280029</td>\n",
              "      <td>1583700</td>\n",
              "    </tr>\n",
              "    <tr>\n",
              "      <th>2952</th>\n",
              "      <td>722.869995</td>\n",
              "      <td>729.539978</td>\n",
              "      <td>722.335999</td>\n",
              "      <td>728.580017</td>\n",
              "      <td>728.580017</td>\n",
              "      <td>988900</td>\n",
              "    </tr>\n",
              "    <tr>\n",
              "      <th>2953</th>\n",
              "      <td>719.469971</td>\n",
              "      <td>725.890015</td>\n",
              "      <td>716.429993</td>\n",
              "      <td>719.409973</td>\n",
              "      <td>719.409973</td>\n",
              "      <td>1216400</td>\n",
              "    </tr>\n",
              "    <tr>\n",
              "      <th>2954</th>\n",
              "      <td>716.510010</td>\n",
              "      <td>725.440002</td>\n",
              "      <td>716.510010</td>\n",
              "      <td>718.359985</td>\n",
              "      <td>718.359985</td>\n",
              "      <td>1258900</td>\n",
              "    </tr>\n",
              "    <tr>\n",
              "      <th>2955</th>\n",
              "      <td>716.479980</td>\n",
              "      <td>722.469971</td>\n",
              "      <td>713.119995</td>\n",
              "      <td>718.270020</td>\n",
              "      <td>718.270020</td>\n",
              "      <td>1306100</td>\n",
              "    </tr>\n",
              "    <tr>\n",
              "      <th>2956</th>\n",
              "      <td>719.000000</td>\n",
              "      <td>722.979980</td>\n",
              "      <td>717.309998</td>\n",
              "      <td>718.919983</td>\n",
              "      <td>718.919983</td>\n",
              "      <td>1214500</td>\n",
              "    </tr>\n",
              "    <tr>\n",
              "      <th>2957</th>\n",
              "      <td>714.909973</td>\n",
              "      <td>716.650024</td>\n",
              "      <td>703.260010</td>\n",
              "      <td>710.359985</td>\n",
              "      <td>710.359985</td>\n",
              "      <td>1982500</td>\n",
              "    </tr>\n",
              "    <tr>\n",
              "      <th>2958</th>\n",
              "      <td>708.650024</td>\n",
              "      <td>708.820007</td>\n",
              "      <td>688.452026</td>\n",
              "      <td>691.719971</td>\n",
              "      <td>691.719971</td>\n",
              "      <td>3402400</td>\n",
              "    </tr>\n",
              "    <tr>\n",
              "      <th>2959</th>\n",
              "      <td>698.770020</td>\n",
              "      <td>702.479980</td>\n",
              "      <td>693.409973</td>\n",
              "      <td>693.710022</td>\n",
              "      <td>693.710022</td>\n",
              "      <td>2082500</td>\n",
              "    </tr>\n",
              "    <tr>\n",
              "      <th>2960</th>\n",
              "      <td>698.400024</td>\n",
              "      <td>702.770020</td>\n",
              "      <td>692.010010</td>\n",
              "      <td>695.940002</td>\n",
              "      <td>695.940002</td>\n",
              "      <td>1465600</td>\n",
              "    </tr>\n",
              "    <tr>\n",
              "      <th>2961</th>\n",
              "      <td>699.059998</td>\n",
              "      <td>700.859985</td>\n",
              "      <td>693.081970</td>\n",
              "      <td>697.460022</td>\n",
              "      <td>697.460022</td>\n",
              "      <td>1184300</td>\n",
              "    </tr>\n",
              "    <tr>\n",
              "      <th>2962</th>\n",
              "      <td>697.450012</td>\n",
              "      <td>701.950012</td>\n",
              "      <td>687.000000</td>\n",
              "      <td>701.869995</td>\n",
              "      <td>701.869995</td>\n",
              "      <td>2171400</td>\n",
              "    </tr>\n",
              "    <tr>\n",
              "      <th>2963</th>\n",
              "      <td>675.169983</td>\n",
              "      <td>689.400024</td>\n",
              "      <td>673.450012</td>\n",
              "      <td>675.219971</td>\n",
              "      <td>675.219971</td>\n",
              "      <td>4449000</td>\n",
              "    </tr>\n",
              "    <tr>\n",
              "      <th>2964</th>\n",
              "      <td>671.000000</td>\n",
              "      <td>672.299988</td>\n",
              "      <td>663.283997</td>\n",
              "      <td>668.260010</td>\n",
              "      <td>668.260010</td>\n",
              "      <td>2629000</td>\n",
              "    </tr>\n",
              "    <tr>\n",
              "      <th>2965</th>\n",
              "      <td>678.969971</td>\n",
              "      <td>680.330017</td>\n",
              "      <td>673.000000</td>\n",
              "      <td>680.039978</td>\n",
              "      <td>680.039978</td>\n",
              "      <td>2173800</td>\n",
              "    </tr>\n",
              "    <tr>\n",
              "      <th>2966</th>\n",
              "      <td>683.000000</td>\n",
              "      <td>687.429016</td>\n",
              "      <td>681.409973</td>\n",
              "      <td>684.109985</td>\n",
              "      <td>684.109985</td>\n",
              "      <td>1932600</td>\n",
              "    </tr>\n",
              "    <tr>\n",
              "      <th>2967</th>\n",
              "      <td>685.469971</td>\n",
              "      <td>692.320007</td>\n",
              "      <td>683.650024</td>\n",
              "      <td>692.099976</td>\n",
              "      <td>692.099976</td>\n",
              "      <td>1597700</td>\n",
              "    </tr>\n",
              "    <tr>\n",
              "      <th>2968</th>\n",
              "      <td>692.200012</td>\n",
              "      <td>700.650024</td>\n",
              "      <td>692.130005</td>\n",
              "      <td>699.210022</td>\n",
              "      <td>699.210022</td>\n",
              "      <td>1344700</td>\n",
              "    </tr>\n",
              "    <tr>\n",
              "      <th>2969</th>\n",
              "      <td>696.059998</td>\n",
              "      <td>696.940002</td>\n",
              "      <td>688.880005</td>\n",
              "      <td>694.950012</td>\n",
              "      <td>694.950012</td>\n",
              "      <td>1462600</td>\n",
              "    </tr>\n",
              "    <tr>\n",
              "      <th>2970</th>\n",
              "      <td>689.979980</td>\n",
              "      <td>701.679993</td>\n",
              "      <td>689.090027</td>\n",
              "      <td>697.770020</td>\n",
              "      <td>697.770020</td>\n",
              "      <td>1411900</td>\n",
              "    </tr>\n",
              "    <tr>\n",
              "      <th>2971</th>\n",
              "      <td>698.080017</td>\n",
              "      <td>698.200012</td>\n",
              "      <td>688.215027</td>\n",
              "      <td>695.359985</td>\n",
              "      <td>695.359985</td>\n",
              "      <td>1304200</td>\n",
              "    </tr>\n",
              "    <tr>\n",
              "      <th>2972</th>\n",
              "      <td>699.500000</td>\n",
              "      <td>705.710022</td>\n",
              "      <td>696.434998</td>\n",
              "      <td>705.630005</td>\n",
              "      <td>705.630005</td>\n",
              "      <td>1575200</td>\n",
              "    </tr>\n",
              "    <tr>\n",
              "      <th>2973</th>\n",
              "      <td>708.049988</td>\n",
              "      <td>716.510010</td>\n",
              "      <td>707.239990</td>\n",
              "      <td>715.090027</td>\n",
              "      <td>715.090027</td>\n",
              "      <td>1111800</td>\n",
              "    </tr>\n",
              "    <tr>\n",
              "      <th>2974</th>\n",
              "      <td>719.119995</td>\n",
              "      <td>722.940002</td>\n",
              "      <td>715.909973</td>\n",
              "      <td>720.640015</td>\n",
              "      <td>720.640015</td>\n",
              "      <td>1336900</td>\n",
              "    </tr>\n",
              "    <tr>\n",
              "      <th>2975</th>\n",
              "      <td>723.619995</td>\n",
              "      <td>724.000000</td>\n",
              "      <td>716.849976</td>\n",
              "      <td>716.979980</td>\n",
              "      <td>716.979980</td>\n",
              "      <td>935900</td>\n",
              "    </tr>\n",
              "    <tr>\n",
              "      <th>2976</th>\n",
              "      <td>721.580017</td>\n",
              "      <td>722.210022</td>\n",
              "      <td>718.030029</td>\n",
              "      <td>720.950012</td>\n",
              "      <td>720.950012</td>\n",
              "      <td>950200</td>\n",
              "    </tr>\n",
              "    <tr>\n",
              "      <th>2977</th>\n",
              "      <td>725.729980</td>\n",
              "      <td>725.739990</td>\n",
              "      <td>719.054993</td>\n",
              "      <td>719.849976</td>\n",
              "      <td>719.849976</td>\n",
              "      <td>1279300</td>\n",
              "    </tr>\n",
              "    <tr>\n",
              "      <th>2978</th>\n",
              "      <td>722.710022</td>\n",
              "      <td>736.130005</td>\n",
              "      <td>721.190002</td>\n",
              "      <td>733.780029</td>\n",
              "      <td>733.780029</td>\n",
              "      <td>1295500</td>\n",
              "    </tr>\n",
              "    <tr>\n",
              "      <th>2979</th>\n",
              "      <td>729.890015</td>\n",
              "      <td>736.989990</td>\n",
              "      <td>729.000000</td>\n",
              "      <td>736.960022</td>\n",
              "      <td>736.960022</td>\n",
              "      <td>1227500</td>\n",
              "    </tr>\n",
              "    <tr>\n",
              "      <th>2980</th>\n",
              "      <td>737.330017</td>\n",
              "      <td>742.130005</td>\n",
              "      <td>737.099976</td>\n",
              "      <td>741.190002</td>\n",
              "      <td>741.190002</td>\n",
              "      <td>1289700</td>\n",
              "    </tr>\n",
              "    <tr>\n",
              "      <th>2981</th>\n",
              "      <td>740.359985</td>\n",
              "      <td>741.690002</td>\n",
              "      <td>735.830994</td>\n",
              "      <td>738.630005</td>\n",
              "      <td>738.630005</td>\n",
              "      <td>1026300</td>\n",
              "    </tr>\n",
              "    <tr>\n",
              "      <th>2982</th>\n",
              "      <td>741.859985</td>\n",
              "      <td>743.239990</td>\n",
              "      <td>736.559998</td>\n",
              "      <td>742.739990</td>\n",
              "      <td>742.739990</td>\n",
              "      <td>1259800</td>\n",
              "    </tr>\n",
              "    <tr>\n",
              "      <th>2983</th>\n",
              "      <td>740.669983</td>\n",
              "      <td>742.609985</td>\n",
              "      <td>737.500000</td>\n",
              "      <td>739.770020</td>\n",
              "      <td>739.770020</td>\n",
              "      <td>1032400</td>\n",
              "    </tr>\n",
              "    <tr>\n",
              "      <th>2984</th>\n",
              "      <td>739.039978</td>\n",
              "      <td>741.690002</td>\n",
              "      <td>734.270020</td>\n",
              "      <td>738.419983</td>\n",
              "      <td>738.419983</td>\n",
              "      <td>1186700</td>\n",
              "    </tr>\n",
              "    <tr>\n",
              "      <th>2985</th>\n",
              "      <td>738.280029</td>\n",
              "      <td>744.460022</td>\n",
              "      <td>737.000000</td>\n",
              "      <td>741.770020</td>\n",
              "      <td>741.770020</td>\n",
              "      <td>1512500</td>\n",
              "    </tr>\n",
              "    <tr>\n",
              "      <th>2986</th>\n",
              "      <td>747.039978</td>\n",
              "      <td>748.650024</td>\n",
              "      <td>739.299988</td>\n",
              "      <td>745.909973</td>\n",
              "      <td>745.909973</td>\n",
              "      <td>3530200</td>\n",
              "    </tr>\n",
              "    <tr>\n",
              "      <th>2987</th>\n",
              "      <td>772.710022</td>\n",
              "      <td>778.549988</td>\n",
              "      <td>766.770020</td>\n",
              "      <td>768.789978</td>\n",
              "      <td>768.789978</td>\n",
              "      <td>3841500</td>\n",
              "    </tr>\n",
              "    <tr>\n",
              "      <th>2988</th>\n",
              "      <td>761.090027</td>\n",
              "      <td>780.429993</td>\n",
              "      <td>761.090027</td>\n",
              "      <td>772.880005</td>\n",
              "      <td>772.880005</td>\n",
              "      <td>2700500</td>\n",
              "    </tr>\n",
              "    <tr>\n",
              "      <th>2989</th>\n",
              "      <td>768.690002</td>\n",
              "      <td>775.840027</td>\n",
              "      <td>767.849976</td>\n",
              "      <td>771.070007</td>\n",
              "      <td>771.070007</td>\n",
              "      <td>1784500</td>\n",
              "    </tr>\n",
              "    <tr>\n",
              "      <th>2990</th>\n",
              "      <td>767.179993</td>\n",
              "      <td>773.210022</td>\n",
              "      <td>766.820007</td>\n",
              "      <td>773.179993</td>\n",
              "      <td>773.179993</td>\n",
              "      <td>1287400</td>\n",
              "    </tr>\n",
              "    <tr>\n",
              "      <th>2991</th>\n",
              "      <td>772.219971</td>\n",
              "      <td>774.070007</td>\n",
              "      <td>768.794983</td>\n",
              "      <td>771.609985</td>\n",
              "      <td>771.609985</td>\n",
              "      <td>1140300</td>\n",
              "    </tr>\n",
              "    <tr>\n",
              "      <th>2992</th>\n",
              "      <td>773.780029</td>\n",
              "      <td>783.039978</td>\n",
              "      <td>772.340027</td>\n",
              "      <td>782.219971</td>\n",
              "      <td>782.219971</td>\n",
              "      <td>1801200</td>\n",
              "    </tr>\n",
              "    <tr>\n",
              "      <th>2993</th>\n",
              "      <td>782.000000</td>\n",
              "      <td>782.630005</td>\n",
              "      <td>778.091003</td>\n",
              "      <td>781.760010</td>\n",
              "      <td>781.760010</td>\n",
              "      <td>1107900</td>\n",
              "    </tr>\n",
              "    <tr>\n",
              "      <th>2994</th>\n",
              "      <td>781.099976</td>\n",
              "      <td>788.940002</td>\n",
              "      <td>780.570007</td>\n",
              "      <td>784.260010</td>\n",
              "      <td>784.260010</td>\n",
              "      <td>1318900</td>\n",
              "    </tr>\n",
              "    <tr>\n",
              "      <th>2995</th>\n",
              "      <td>783.750000</td>\n",
              "      <td>786.812012</td>\n",
              "      <td>782.778015</td>\n",
              "      <td>784.679993</td>\n",
              "      <td>784.679993</td>\n",
              "      <td>786400</td>\n",
              "    </tr>\n",
              "    <tr>\n",
              "      <th>2996</th>\n",
              "      <td>785.000000</td>\n",
              "      <td>789.750000</td>\n",
              "      <td>782.969971</td>\n",
              "      <td>784.849976</td>\n",
              "      <td>784.849976</td>\n",
              "      <td>975100</td>\n",
              "    </tr>\n",
              "    <tr>\n",
              "      <th>2997</th>\n",
              "      <td>781.500000</td>\n",
              "      <td>783.395020</td>\n",
              "      <td>780.400024</td>\n",
              "      <td>783.219971</td>\n",
              "      <td>783.219971</td>\n",
              "      <td>740500</td>\n",
              "    </tr>\n",
              "    <tr>\n",
              "      <th>2998</th>\n",
              "      <td>783.750000</td>\n",
              "      <td>787.489990</td>\n",
              "      <td>780.109985</td>\n",
              "      <td>782.440002</td>\n",
              "      <td>782.440002</td>\n",
              "      <td>938200</td>\n",
              "    </tr>\n",
              "    <tr>\n",
              "      <th>2999</th>\n",
              "      <td>780.299988</td>\n",
              "      <td>780.979980</td>\n",
              "      <td>773.443970</td>\n",
              "      <td>777.140015</td>\n",
              "      <td>777.140015</td>\n",
              "      <td>1028000</td>\n",
              "    </tr>\n",
              "  </tbody>\n",
              "</table>\n",
              "</div>"
            ],
            "text/plain": [
              "            Open        High         Low       Close   Adj Close   Volume\n",
              "2940  706.530029  711.478027  704.179993  704.239990  704.239990  1330700\n",
              "2941  706.859985  720.969971  706.859985  720.090027  720.090027  1929500\n",
              "2942  720.760010  727.510010  719.705017  725.270020  725.270020  1629200\n",
              "2943  722.869995  728.330017  720.280029  724.119995  724.119995  1576300\n",
              "2944  724.010010  733.935974  724.000000  732.659973  732.659973  1975000\n",
              "2945  731.739990  739.729980  731.260010  735.719971  735.719971  2129500\n",
              "2946  734.530029  737.210022  730.659973  734.150024  734.150024  1253600\n",
              "2947  732.500000  733.020020  724.169983  730.400024  730.400024  1341800\n",
              "2948  729.270020  729.489990  720.559998  722.340027  722.340027  1226300\n",
              "2949  724.909973  724.909973  714.609985  716.549988  716.549988  1565300\n",
              "2950  719.840027  721.979980  716.549988  716.650024  716.650024  1336200\n",
              "2951  723.960022  728.570007  720.580017  728.280029  728.280029  1583700\n",
              "2952  722.869995  729.539978  722.335999  728.580017  728.580017   988900\n",
              "2953  719.469971  725.890015  716.429993  719.409973  719.409973  1216400\n",
              "2954  716.510010  725.440002  716.510010  718.359985  718.359985  1258900\n",
              "2955  716.479980  722.469971  713.119995  718.270020  718.270020  1306100\n",
              "2956  719.000000  722.979980  717.309998  718.919983  718.919983  1214500\n",
              "2957  714.909973  716.650024  703.260010  710.359985  710.359985  1982500\n",
              "2958  708.650024  708.820007  688.452026  691.719971  691.719971  3402400\n",
              "2959  698.770020  702.479980  693.409973  693.710022  693.710022  2082500\n",
              "2960  698.400024  702.770020  692.010010  695.940002  695.940002  1465600\n",
              "2961  699.059998  700.859985  693.081970  697.460022  697.460022  1184300\n",
              "2962  697.450012  701.950012  687.000000  701.869995  701.869995  2171400\n",
              "2963  675.169983  689.400024  673.450012  675.219971  675.219971  4449000\n",
              "2964  671.000000  672.299988  663.283997  668.260010  668.260010  2629000\n",
              "2965  678.969971  680.330017  673.000000  680.039978  680.039978  2173800\n",
              "2966  683.000000  687.429016  681.409973  684.109985  684.109985  1932600\n",
              "2967  685.469971  692.320007  683.650024  692.099976  692.099976  1597700\n",
              "2968  692.200012  700.650024  692.130005  699.210022  699.210022  1344700\n",
              "2969  696.059998  696.940002  688.880005  694.950012  694.950012  1462600\n",
              "2970  689.979980  701.679993  689.090027  697.770020  697.770020  1411900\n",
              "2971  698.080017  698.200012  688.215027  695.359985  695.359985  1304200\n",
              "2972  699.500000  705.710022  696.434998  705.630005  705.630005  1575200\n",
              "2973  708.049988  716.510010  707.239990  715.090027  715.090027  1111800\n",
              "2974  719.119995  722.940002  715.909973  720.640015  720.640015  1336900\n",
              "2975  723.619995  724.000000  716.849976  716.979980  716.979980   935900\n",
              "2976  721.580017  722.210022  718.030029  720.950012  720.950012   950200\n",
              "2977  725.729980  725.739990  719.054993  719.849976  719.849976  1279300\n",
              "2978  722.710022  736.130005  721.190002  733.780029  733.780029  1295500\n",
              "2979  729.890015  736.989990  729.000000  736.960022  736.960022  1227500\n",
              "2980  737.330017  742.130005  737.099976  741.190002  741.190002  1289700\n",
              "2981  740.359985  741.690002  735.830994  738.630005  738.630005  1026300\n",
              "2982  741.859985  743.239990  736.559998  742.739990  742.739990  1259800\n",
              "2983  740.669983  742.609985  737.500000  739.770020  739.770020  1032400\n",
              "2984  739.039978  741.690002  734.270020  738.419983  738.419983  1186700\n",
              "2985  738.280029  744.460022  737.000000  741.770020  741.770020  1512500\n",
              "2986  747.039978  748.650024  739.299988  745.909973  745.909973  3530200\n",
              "2987  772.710022  778.549988  766.770020  768.789978  768.789978  3841500\n",
              "2988  761.090027  780.429993  761.090027  772.880005  772.880005  2700500\n",
              "2989  768.690002  775.840027  767.849976  771.070007  771.070007  1784500\n",
              "2990  767.179993  773.210022  766.820007  773.179993  773.179993  1287400\n",
              "2991  772.219971  774.070007  768.794983  771.609985  771.609985  1140300\n",
              "2992  773.780029  783.039978  772.340027  782.219971  782.219971  1801200\n",
              "2993  782.000000  782.630005  778.091003  781.760010  781.760010  1107900\n",
              "2994  781.099976  788.940002  780.570007  784.260010  784.260010  1318900\n",
              "2995  783.750000  786.812012  782.778015  784.679993  784.679993   786400\n",
              "2996  785.000000  789.750000  782.969971  784.849976  784.849976   975100\n",
              "2997  781.500000  783.395020  780.400024  783.219971  783.219971   740500\n",
              "2998  783.750000  787.489990  780.109985  782.440002  782.440002   938200\n",
              "2999  780.299988  780.979980  773.443970  777.140015  777.140015  1028000"
            ]
          },
          "metadata": {
            "tags": []
          },
          "execution_count": 162
        }
      ]
    },
    {
      "cell_type": "code",
      "metadata": {
        "id": "Mnpu32LbrIvN"
      },
      "source": [
        "#looking back 60 days\n",
        "past_60_days =  train.tail(30)"
      ],
      "execution_count": null,
      "outputs": []
    },
    {
      "cell_type": "code",
      "metadata": {
        "id": "ScLl8fGJsMKH"
      },
      "source": [
        "df = past_60_days.append(test, ignore_index=True)"
      ],
      "execution_count": null,
      "outputs": []
    },
    {
      "cell_type": "code",
      "metadata": {
        "id": "81kZEB_1-5AK"
      },
      "source": [
        "df = df.drop(['Adj Close'], axis=1)"
      ],
      "execution_count": null,
      "outputs": []
    },
    {
      "cell_type": "code",
      "metadata": {
        "id": "0jboUrsGsnv8",
        "colab": {
          "base_uri": "https://localhost:8080/",
          "height": 204
        },
        "outputId": "f6c88fd6-bff9-4190-cd72-f6aa7d3750e0"
      },
      "source": [
        "df.head()"
      ],
      "execution_count": null,
      "outputs": [
        {
          "output_type": "execute_result",
          "data": {
            "text/html": [
              "<div>\n",
              "<style scoped>\n",
              "    .dataframe tbody tr th:only-of-type {\n",
              "        vertical-align: middle;\n",
              "    }\n",
              "\n",
              "    .dataframe tbody tr th {\n",
              "        vertical-align: top;\n",
              "    }\n",
              "\n",
              "    .dataframe thead th {\n",
              "        text-align: right;\n",
              "    }\n",
              "</style>\n",
              "<table border=\"1\" class=\"dataframe\">\n",
              "  <thead>\n",
              "    <tr style=\"text-align: right;\">\n",
              "      <th></th>\n",
              "      <th>Open</th>\n",
              "      <th>High</th>\n",
              "      <th>Low</th>\n",
              "      <th>Close</th>\n",
              "      <th>Volume</th>\n",
              "    </tr>\n",
              "  </thead>\n",
              "  <tbody>\n",
              "    <tr>\n",
              "      <th>0</th>\n",
              "      <td>689.979980</td>\n",
              "      <td>701.679993</td>\n",
              "      <td>689.090027</td>\n",
              "      <td>697.770020</td>\n",
              "      <td>1411900</td>\n",
              "    </tr>\n",
              "    <tr>\n",
              "      <th>1</th>\n",
              "      <td>698.080017</td>\n",
              "      <td>698.200012</td>\n",
              "      <td>688.215027</td>\n",
              "      <td>695.359985</td>\n",
              "      <td>1304200</td>\n",
              "    </tr>\n",
              "    <tr>\n",
              "      <th>2</th>\n",
              "      <td>699.500000</td>\n",
              "      <td>705.710022</td>\n",
              "      <td>696.434998</td>\n",
              "      <td>705.630005</td>\n",
              "      <td>1575200</td>\n",
              "    </tr>\n",
              "    <tr>\n",
              "      <th>3</th>\n",
              "      <td>708.049988</td>\n",
              "      <td>716.510010</td>\n",
              "      <td>707.239990</td>\n",
              "      <td>715.090027</td>\n",
              "      <td>1111800</td>\n",
              "    </tr>\n",
              "    <tr>\n",
              "      <th>4</th>\n",
              "      <td>719.119995</td>\n",
              "      <td>722.940002</td>\n",
              "      <td>715.909973</td>\n",
              "      <td>720.640015</td>\n",
              "      <td>1336900</td>\n",
              "    </tr>\n",
              "  </tbody>\n",
              "</table>\n",
              "</div>"
            ],
            "text/plain": [
              "         Open        High         Low       Close   Volume\n",
              "0  689.979980  701.679993  689.090027  697.770020  1411900\n",
              "1  698.080017  698.200012  688.215027  695.359985  1304200\n",
              "2  699.500000  705.710022  696.434998  705.630005  1575200\n",
              "3  708.049988  716.510010  707.239990  715.090027  1111800\n",
              "4  719.119995  722.940002  715.909973  720.640015  1336900"
            ]
          },
          "metadata": {
            "tags": []
          },
          "execution_count": 170
        }
      ]
    },
    {
      "cell_type": "code",
      "metadata": {
        "id": "beIF8M3Ztoei",
        "colab": {
          "base_uri": "https://localhost:8080/"
        },
        "outputId": "92300664-1f45-4626-b486-9d366baf2eda"
      },
      "source": [
        "#scaling the data\n",
        "test_s = scaler.transform(df)\n",
        "test_s"
      ],
      "execution_count": null,
      "outputs": [
        {
          "output_type": "execute_result",
          "data": {
            "text/plain": [
              "array([[0.86947865, 0.87941385, 0.87076123, 0.88010872, 0.01701096],\n",
              "       [0.88060502, 0.87465551, 0.86955667, 0.87679059, 0.01570604],\n",
              "       [0.88255553, 0.88492429, 0.8808726 , 0.89093031, 0.01898955],\n",
              "       ...,\n",
              "       [2.77067805, 2.8265403 , 2.77505165, 2.83102777, 0.01490758],\n",
              "       [2.78570537, 2.77808168, 2.74086994, 2.758264  , 0.02080457],\n",
              "       [2.75452427, 2.74635934, 2.73530826, 2.76455605, 0.01563213]])"
            ]
          },
          "metadata": {
            "tags": []
          },
          "execution_count": 171
        }
      ]
    },
    {
      "cell_type": "markdown",
      "metadata": {
        "id": "ZDRDUB6TEREN"
      },
      "source": [
        "# Creating Test Dataset"
      ]
    },
    {
      "cell_type": "code",
      "metadata": {
        "id": "RD9sOo6Mwafo"
      },
      "source": [
        "X_test = []\n",
        "y_test = []\n",
        "\n",
        "for i in range(30, test_s.shape[0]):\n",
        "  X_test.append(test_s[i-30 : i])\n",
        "  y_test.append(test_s[i,0])"
      ],
      "execution_count": null,
      "outputs": []
    },
    {
      "cell_type": "code",
      "metadata": {
        "id": "TJtMztdSwja-"
      },
      "source": [
        "X_test, y_test = np.array(X_test), np.array(y_test)"
      ],
      "execution_count": null,
      "outputs": []
    },
    {
      "cell_type": "code",
      "metadata": {
        "id": "Wjwoa7-mwzG0",
        "colab": {
          "base_uri": "https://localhost:8080/"
        },
        "outputId": "df915c3a-7883-4c6f-bd04-b9b53e835f8b"
      },
      "source": [
        "X_test.shape, y_test.shape"
      ],
      "execution_count": null,
      "outputs": [
        {
          "output_type": "execute_result",
          "data": {
            "text/plain": [
              "((1151, 30, 5), (1151,))"
            ]
          },
          "metadata": {
            "tags": []
          },
          "execution_count": 174
        }
      ]
    },
    {
      "cell_type": "code",
      "metadata": {
        "id": "Qjj4qqR_xw6v"
      },
      "source": [
        "y_pred = model.predict(X_test)"
      ],
      "execution_count": null,
      "outputs": []
    },
    {
      "cell_type": "code",
      "metadata": {
        "id": "ZjryR6WyzhdT",
        "colab": {
          "base_uri": "https://localhost:8080/"
        },
        "outputId": "63d524b0-c990-4143-ca45-c66d68b99be2"
      },
      "source": [
        "y_pred.shape"
      ],
      "execution_count": null,
      "outputs": [
        {
          "output_type": "execute_result",
          "data": {
            "text/plain": [
              "(1151, 1)"
            ]
          },
          "metadata": {
            "tags": []
          },
          "execution_count": 176
        }
      ]
    },
    {
      "cell_type": "code",
      "metadata": {
        "id": "yTQv7rIWx2o5",
        "colab": {
          "base_uri": "https://localhost:8080/"
        },
        "outputId": "94a83e1d-244e-400d-94fc-3f6f79868a8c"
      },
      "source": [
        "scaler.scale_"
      ],
      "execution_count": null,
      "outputs": [
        {
          "output_type": "execute_result",
          "data": {
            "text/plain": [
              "array([1.37361951e-03, 1.36734492e-03, 1.37663875e-03, 1.37679538e-03,\n",
              "       1.21162615e-08])"
            ]
          },
          "metadata": {
            "tags": []
          },
          "execution_count": 177
        }
      ]
    },
    {
      "cell_type": "code",
      "metadata": {
        "id": "7M0mWlv3x_WG",
        "colab": {
          "base_uri": "https://localhost:8080/"
        },
        "outputId": "2f728253-cf75-4031-c5b2-01896b8070bf"
      },
      "source": [
        "scale = 1/1.33197958e-03\n",
        "scale"
      ],
      "execution_count": null,
      "outputs": [
        {
          "output_type": "execute_result",
          "data": {
            "text/plain": [
              "750.762260184199"
            ]
          },
          "metadata": {
            "tags": []
          },
          "execution_count": 178
        }
      ]
    },
    {
      "cell_type": "code",
      "metadata": {
        "id": "75Q7oYk2yLD5"
      },
      "source": [
        "y_pred = y_pred * scale\n",
        "y_test = y_test * scale"
      ],
      "execution_count": null,
      "outputs": []
    },
    {
      "cell_type": "code",
      "metadata": {
        "id": "qncyev99ykQz",
        "colab": {
          "base_uri": "https://localhost:8080/"
        },
        "outputId": "a83ee0fb-3a8a-42f6-8286-8c058818bfae"
      },
      "source": [
        "y_pred.shape, y_test.shape"
      ],
      "execution_count": null,
      "outputs": [
        {
          "output_type": "execute_result",
          "data": {
            "text/plain": [
              "((1151, 1), (1151,))"
            ]
          },
          "metadata": {
            "tags": []
          },
          "execution_count": 180
        }
      ]
    },
    {
      "cell_type": "markdown",
      "metadata": {
        "id": "mQWMep6icjJV"
      },
      "source": [
        "# Making Prediction"
      ]
    },
    {
      "cell_type": "code",
      "metadata": {
        "id": "jW917pPZyTsF",
        "colab": {
          "base_uri": "https://localhost:8080/",
          "height": 405
        },
        "outputId": "24e5973c-5e8a-44c2-b7fc-e08d1b537660"
      },
      "source": [
        "plt.rcParams[\"figure.figsize\"] = (12,6)\n",
        "plt.rcParams.update({'font.size': 10})\n",
        "plt.plot(y_test, label='Orginal Stock Figures')\n",
        "plt.plot(y_pred, label='Predicted Stock Figures')\n",
        "plt.ylabel('Price')\n",
        "plt.xlabel('Time')\n",
        "plt.legend()\n",
        "plt.plot()\n"
      ],
      "execution_count": null,
      "outputs": [
        {
          "output_type": "execute_result",
          "data": {
            "text/plain": [
              "[]"
            ]
          },
          "metadata": {
            "tags": []
          },
          "execution_count": 202
        },
        {
          "output_type": "display_data",
          "data": {
            "image/png": "[encoded data removed]",
            "text/plain": [
              "<Figure size 864x432 with 1 Axes>"
            ]
          },
          "metadata": {
            "tags": [],
            "needs_background": "light"
          }
        }
      ]
    },
    {
      "cell_type": "markdown",
      "metadata": {
        "id": "d3aza7rLGCbq"
      },
      "source": [
        "# Saving The Model"
      ]
    },
    {
      "cell_type": "code",
      "metadata": {
        "id": "8vdtsmPs8PbZ"
      },
      "source": [
        "#saving the model\r\n",
        "model.save('alphabet_or_google.h5')"
      ],
      "execution_count": null,
      "outputs": []
    },
    {
      "cell_type": "markdown",
      "metadata": {
        "id": "J4ci_A_ADdrF"
      },
      "source": [
        "# Model Evaluation"
      ]
    },
    {
      "cell_type": "markdown",
      "metadata": {
        "id": "3SYqmuE7Dp0x"
      },
      "source": [
        "##Root Mean Squared Error"
      ]
    },
    {
      "cell_type": "code",
      "metadata": {
        "id": "_w9cAeGK_q9h"
      },
      "source": [
        " from sklearn.metrics import mean_squared_error"
      ],
      "execution_count": null,
      "outputs": []
    },
    {
      "cell_type": "code",
      "metadata": {
        "colab": {
          "base_uri": "https://localhost:8080/"
        },
        "id": "RsioLAkd_v6c",
        "outputId": "f5c81c73-8958-4224-d954-c1f87621b865"
      },
      "source": [
        "rms = mean_squared_error(y_test, y_pred, squared=False)\r\n",
        "print('The Root Mean Squared Error is {}'.format(rms))"
      ],
      "execution_count": null,
      "outputs": [
        {
          "output_type": "stream",
          "text": [
            "The Root Mean Squared Error is 48.83074892533447\n"
          ],
          "name": "stdout"
        }
      ]
    },
    {
      "cell_type": "markdown",
      "metadata": {
        "id": "rXnd37aAD1SP"
      },
      "source": [
        "## R2 Score"
      ]
    },
    {
      "cell_type": "code",
      "metadata": {
        "id": "mKB0xMUG_zmg"
      },
      "source": [
        "from sklearn.metrics import r2_score"
      ],
      "execution_count": null,
      "outputs": []
    },
    {
      "cell_type": "code",
      "metadata": {
        "colab": {
          "base_uri": "https://localhost:8080/"
        },
        "id": "OvgPgG_xADTM",
        "outputId": "c084f372-9416-4eae-a64e-f2b9ae3a4205"
      },
      "source": [
        "r2 = r2_score(y_test, y_pred)\r\n",
        "print('The R2 score is {}'.format(r2))"
      ],
      "execution_count": null,
      "outputs": [
        {
          "output_type": "stream",
          "text": [
            "The R2 score is 0.973969995368543\n"
          ],
          "name": "stdout"
        }
      ]
    }
  ]
}